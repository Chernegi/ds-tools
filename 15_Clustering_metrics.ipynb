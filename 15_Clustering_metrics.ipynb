{
 "cells": [
  {
   "cell_type": "markdown",
   "metadata": {},
   "source": [
    "# Clustering metrics\n",
    "\n",
    "source: https://gitnux.org/clustering-metrics/\n",
    "\n",
    "\n",
    "1. Adjusted Rand Index (ARI)\n",
    "2. Mutual Information (MI)\n",
    "3. Homogeneity Score\n",
    "4. Completeness Score\n",
    "5. V-Measure Score\n",
    "6. Fowlkes-Mallows Index (FMI)\n",
    "7. Silhouette Coefficient\n",
    "8. Calinski-Harabasz Index (CHI)\n",
    "9. Davies-Bouldin Index (DBI)\n",
    "10. Dunn Index\n",
    "12. Gap Statistic\n"
   ]
  },
  {
   "cell_type": "markdown",
   "metadata": {},
   "source": []
  }
 ],
 "metadata": {
  "language_info": {
   "name": "python"
  },
  "orig_nbformat": 4
 },
 "nbformat": 4,
 "nbformat_minor": 2
}
