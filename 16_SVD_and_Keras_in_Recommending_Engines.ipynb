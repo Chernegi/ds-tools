{
 "cells": [
  {
   "cell_type": "markdown",
   "metadata": {},
   "source": [
    "## Matrix factorization: decomposition to a special matices, e.g. SVD,  SVD++, NMF, QR, LQ, RQ, RZ \n",
    "https://ru.wikipedia.org/wiki/%D0%A4%D0%B0%D0%BA%D1%82%D0%BE%D1%80%D0%B8%D0%B7%D0%B0%D1%86%D0%B8%D1%8F\n",
    "\n",
    "\n",
    "**SVD (Singular Vector Decomposition) for recommender engine**\n",
    "https://habr.com/ru/articles/751470/\n",
    "\n",
    "**Matrix Factorization for recommending engines**\n",
    "https://heartbeat.comet.ml/recommender-systems-with-python-part-iii-collaborative-filtering-singular-value-decomposition-5b5dcb3f242b\n"
   ]
  },
  {
   "cell_type": "code",
   "execution_count": 43,
   "metadata": {},
   "outputs": [],
   "source": [
    "import os\n",
    "import requests\n",
    "import warnings\n",
    "import zipfile\n",
    "import pandas as pd\n",
    "import numpy as np\n",
    "import keras.models as kmodels\n",
    "import keras.layers as klayers\n",
    "import keras.backend as K\n",
    "import keras\n",
    "import matplotlib.pyplot as plt\n",
    "\n",
    "from sklearn.metrics.pairwise import cosine_similarity\n",
    "from sklearn.model_selection import train_test_split\n",
    "from scipy.sparse.linalg import svds\n",
    "from scipy.sparse import coo_matrix, coo_array\n",
    "from sklearn import dummy, metrics, ensemble"
   ]
  },
  {
   "cell_type": "code",
   "execution_count": 44,
   "metadata": {},
   "outputs": [],
   "source": [
    "%matplotlib inline"
   ]
  },
  {
   "cell_type": "code",
   "execution_count": 4,
   "metadata": {},
   "outputs": [
    {
     "name": "stderr",
     "output_type": "stream",
     "text": [
      "/var/folders/_z/b4ffpzvj0_x8rgpm8jksnzbc0000gn/T/ipykernel_16105/1103988928.py:17: UserWarning: Directory data/ml-1m already esist\n",
      "  warnings.warn(f\"Directory {DATA_PATH} already esist\")\n"
     ]
    }
   ],
   "source": [
    "# Download the dataset. It's small, only about 6 MB.\n",
    "DATA_PATH = os.path.join(\"data\", \"ml-1m\")\n",
    "DATA_URL = \"http://files.grouplens.org/datasets/movielens/ml-1m.zip\"\n",
    "\n",
    "if not os.path.exists(DATA_PATH):\n",
    "    os.mkdir(DATA_PATH)\n",
    "    response = requests.get(DATA_URL, stream=True)\n",
    "    total_length = response.headers.get(\"content-length\")\n",
    "\n",
    "    with open(os.path.join(DATA_PATH, \"ml-1m.zip\"), \"wb\") as f:\n",
    "        for data in response.iter_content(chunk_size=4096):\n",
    "            f.write(data)\n",
    "    zip_ref = zipfile.ZipFile(os.path.join(DATA_PATH, \"ml-1m.zip\"), \"r\")\n",
    "    zip_ref.extractall(DATA_PATH)\n",
    "    zip_ref.close()\n",
    "else:\n",
    "    warnings.warn(f\"Directory {DATA_PATH} already esist\")"
   ]
  },
  {
   "cell_type": "code",
   "execution_count": 5,
   "metadata": {},
   "outputs": [],
   "source": [
    "# Read in the dataset, and do a little preprocessing,\n",
    "# mostly to set the column datatypes.\n",
    "\n",
    "# use encoding = \"ISO-8859-1\" to avoid error: \"utf-8' codec can't decode byte...\"\n",
    "users = pd.read_csv(os.path.join(DATA_PATH, \"ml-1m\", 'users.dat'), sep='::',\n",
    "                    engine='python',\n",
    "                    names=['userid', 'gender', 'age', 'occupation', 'zip'],\n",
    "                    encoding=\"ISO-8859-1\").set_index('userid')\n",
    "ratings = pd.read_csv(os.path.join(DATA_PATH, \"ml-1m\", 'ratings.dat'), engine='python',\n",
    "                      sep='::', names=['userid', 'movieid', 'rating', 'timestamp'],\n",
    "                      encoding=\"ISO-8859-1\")\n",
    "movies = pd.read_csv(os.path.join(DATA_PATH, \"ml-1m\", 'movies.dat'), engine='python',\n",
    "                     sep='::', names=['movieid', 'title', 'genre'],\n",
    "                     encoding=\"ISO-8859-1\").set_index('movieid')\n",
    "movies['genre'] = movies.genre.str.split('|')\n",
    "\n",
    "users.age = users.age.astype('category')\n",
    "users.gender = users.gender.astype('category')\n",
    "users.occupation = users.occupation.astype('category')\n",
    "ratings.movieid = ratings.movieid.astype('int')\n",
    "ratings.userid = ratings.userid.astype('int')\n",
    "ratings.rating = ratings.rating.astype('float')"
   ]
  },
  {
   "cell_type": "code",
   "execution_count": 6,
   "metadata": {},
   "outputs": [
    {
     "name": "stdout",
     "output_type": "stream",
     "text": [
      "6040\n",
      "3952\n"
     ]
    }
   ],
   "source": [
    "print(ratings.userid.max())\n",
    "print(ratings.movieid.max())"
   ]
  },
  {
   "cell_type": "code",
   "execution_count": 7,
   "metadata": {},
   "outputs": [
    {
     "name": "stdout",
     "output_type": "stream",
     "text": [
      "(6040, 4)\n",
      "(3883, 2)\n",
      "(6041, 3953)\n"
     ]
    }
   ],
   "source": [
    "print(users.shape)\n",
    "print(movies.shape)\n",
    "\n",
    "ratings_shape = (ratings.userid.max()+1, ratings.movieid.max()+1)\n",
    "print(ratings_shape)"
   ]
  },
  {
   "cell_type": "code",
   "execution_count": 8,
   "metadata": {},
   "outputs": [],
   "source": [
    "train_set, test_set = train_test_split(ratings, test_size=0.05)"
   ]
  },
  {
   "cell_type": "code",
   "execution_count": 9,
   "metadata": {},
   "outputs": [],
   "source": [
    "train_matrix = coo_matrix(\n",
    "    (test_set.rating.to_numpy(),\n",
    "     (test_set.userid.to_numpy(), test_set.movieid.to_numpy())\n",
    "     ),\n",
    "    shape=ratings_shape\n",
    ")"
   ]
  },
  {
   "cell_type": "markdown",
   "metadata": {},
   "source": [
    "**Factorization based on SVD**"
   ]
  },
  {
   "cell_type": "code",
   "execution_count": 11,
   "metadata": {},
   "outputs": [
    {
     "name": "stdout",
     "output_type": "stream",
     "text": [
      "(6041, 100)\n",
      "(100,)\n",
      "(100, 3953)\n"
     ]
    }
   ],
   "source": [
    "# Matrix factorization using SVD\n",
    "\n",
    "U, S, Vh = svds(\n",
    "    train_matrix, k=100\n",
    ")\n",
    "print(U.shape)\n",
    "print(S.shape)\n",
    "print(Vh.shape)"
   ]
  },
  {
   "cell_type": "markdown",
   "metadata": {},
   "source": [
    "## Recomending engine based on Keras\n",
    "\n",
    "source: https://github.com/ririw/ririw.github.io/blob/master/assets/Recommending%20movies.ipynb"
   ]
  },
  {
   "cell_type": "code",
   "execution_count": 26,
   "metadata": {},
   "outputs": [],
   "source": [
    "ratings.movieid = ratings.movieid.astype('category')\n",
    "ratings.userid = ratings.userid.astype('category')\n",
    "ratings.rating = ratings.rating.astype('int')\n",
    "\n",
    "# Count the movies and users\n",
    "n_movies = movies.shape[0]\n",
    "n_users = users.shape[0]\n",
    "\n",
    "# Also, make vectors of all the movie ids and user ids. These are\n",
    "# pandas categorical data, so they range from 1 to n_movies and 1 to n_users, respectively.\n",
    "movieid = ratings.movieid.cat.codes.values\n",
    "userid = ratings.userid.cat.codes.values"
   ]
  },
  {
   "cell_type": "code",
   "execution_count": 27,
   "metadata": {},
   "outputs": [],
   "source": [
    "# And finally, set up a y variable with the rating,\n",
    "# as a one-hot encoded matrix.\n",
    "#\n",
    "# note the '- 1' for the rating. That's because ratings\n",
    "# go from 1 to 5, while the matrix columns go from 0 to 4\n",
    "\n",
    "y = np.zeros((ratings.shape[0], 5))\n",
    "y[np.arange(ratings.shape[0]), ratings.rating - 1] = 1"
   ]
  },
  {
   "cell_type": "code",
   "execution_count": 28,
   "metadata": {},
   "outputs": [
    {
     "name": "stdout",
     "output_type": "stream",
     "text": [
      "0.8709609691574461\n"
     ]
    }
   ],
   "source": [
    "# Dummy classifier! Just see how well stupid can do.\n",
    "pred = dummy.DummyClassifier(strategy='prior')\n",
    "pred.fit(ratings[['userid', 'movieid']], ratings.rating)\n",
    "\n",
    "print(metrics.mean_absolute_error(ratings.rating,\n",
    "      pred.predict(ratings[['userid', 'movieid']])))"
   ]
  },
  {
   "cell_type": "code",
   "execution_count": 29,
   "metadata": {},
   "outputs": [],
   "source": [
    "# Now, the deep learning classifier\n",
    "\n",
    "# First, we take the movie and vectorize it.\n",
    "# The embedding layer is normally used for sequences (think, sequences of words)\n",
    "# so we need to flatten it out.\n",
    "# The dropout layer is also important in preventing overfitting\n",
    "movie_input = keras.layers.Input(shape=[1])\n",
    "movie_vec = keras.layers.Flatten()(\n",
    "    keras.layers.Embedding(n_movies + 1, 32)(movie_input))\n",
    "movie_vec = keras.layers.Dropout(0.5)(movie_vec)\n",
    "\n",
    "# Same thing for the users\n",
    "user_input = keras.layers.Input(shape=[1])\n",
    "user_vec = keras.layers.Flatten()(\n",
    "    keras.layers.Embedding(n_users + 1, 32)(user_input))\n",
    "user_vec = keras.layers.Dropout(0.5)(user_vec)"
   ]
  },
  {
   "cell_type": "code",
   "execution_count": 30,
   "metadata": {},
   "outputs": [
    {
     "name": "stdout",
     "output_type": "stream",
     "text": [
      "(None, 32)\n",
      "(None, 32)\n"
     ]
    }
   ],
   "source": [
    "print(movie_vec.shape)\n",
    "print(user_vec.shape)"
   ]
  },
  {
   "cell_type": "code",
   "execution_count": 32,
   "metadata": {},
   "outputs": [],
   "source": [
    "# Next, we join them all together and put them\n",
    "# through a pretty standard deep learning architecture\n",
    "\n",
    "# merge is deprecated\n",
    "# input_vecs = keras.layers.merge([movie_vec, user_vec], mode='concat')\n",
    "\n",
    "input_vecs = keras.layers.Concatenate(axis=1)([movie_vec, user_vec])\n",
    "nn = keras.layers.Dropout(0.5)(\n",
    "    keras.layers.Dense(128, activation='relu')(input_vecs))\n",
    "nn = keras.layers.BatchNormalization()(nn)\n",
    "nn = keras.layers.Dropout(0.5)(keras.layers.Dense(128, activation='relu')(nn))\n",
    "nn = keras.layers.BatchNormalization()(nn)\n",
    "nn = keras.layers.Dense(128, activation='relu')(nn)\n",
    "\n",
    "# Finally, we pull out the result!\n",
    "result = keras.layers.Dense(5, activation='softmax')(nn)\n",
    "\n",
    "# And make a model from it that we can actually run.\n",
    "model = kmodels.Model([movie_input, user_input], result)\n",
    "model.compile('adam', 'categorical_crossentropy')\n",
    "\n",
    "# If we wanted to inspect part of the model, for example, to look\n",
    "# at the movie vectors, here's how to do it. You don't need to\n",
    "# compile these models unless you're going to train them.\n",
    "final_layer = kmodels.Model([movie_input, user_input], nn)\n",
    "movie_vec = kmodels.Model(movie_input, movie_vec)"
   ]
  },
  {
   "cell_type": "code",
   "execution_count": 33,
   "metadata": {},
   "outputs": [],
   "source": [
    "# Split the data into train and test sets...\n",
    "a_movieid, b_movieid, a_userid, b_userid, a_y, b_y = train_test_split(\n",
    "    movieid, userid, y)"
   ]
  },
  {
   "cell_type": "code",
   "execution_count": 34,
   "metadata": {},
   "outputs": [
    {
     "name": "stdout",
     "output_type": "stream",
     "text": [
      "7815/7815 [==============================] - 10s 1ms/step\n"
     ]
    },
    {
     "data": {
      "text/plain": [
       "1.293681739471232"
      ]
     },
     "execution_count": 34,
     "metadata": {},
     "output_type": "execute_result"
    }
   ],
   "source": [
    "# And of _course_ we need to make sure we're improving, so we find the MAE before\n",
    "# training at all.\n",
    "metrics.mean_absolute_error(\n",
    "    np.argmax(b_y, 1)+1, np.argmax(model.predict([b_movieid, b_userid]), 1)+1)"
   ]
  },
  {
   "cell_type": "code",
   "execution_count": 45,
   "metadata": {},
   "outputs": [
    {
     "name": "stdout",
     "output_type": "stream",
     "text": [
      "23443/23443 [==============================] - 88s 4ms/step - loss: 1.2401 - val_loss: 1.2147\n"
     ]
    },
    {
     "data": {
      "image/png": "[encoded data removed]",
      "text/plain": [
       "<Figure size 640x480 with 1 Axes>"
      ]
     },
     "metadata": {},
     "output_type": "display_data"
    }
   ],
   "source": [
    "try:\n",
    "    history = model.fit([a_movieid, a_userid], a_y,\n",
    "                        epochs=1,  # 20\n",
    "                        validation_data=([b_movieid, b_userid], b_y))\n",
    "except KeyboardInterrupt:\n",
    "    pass"
   ]
  },
  {
   "cell_type": "code",
   "execution_count": null,
   "metadata": {},
   "outputs": [],
   "source": [
    "plt.plot(history.history['loss'])\n",
    "plt.plot(history.history['val_loss'])"
   ]
  },
  {
   "cell_type": "code",
   "execution_count": 46,
   "metadata": {},
   "outputs": [
    {
     "name": "stdout",
     "output_type": "stream",
     "text": [
      "7815/7815 [==============================] - 10s 1ms/step\n"
     ]
    },
    {
     "data": {
      "text/plain": [
       "0.6730013237193715"
      ]
     },
     "execution_count": 46,
     "metadata": {},
     "output_type": "execute_result"
    }
   ],
   "source": [
    "# This is the number that matters. It's the held out\n",
    "# test set score. Note the + 1, because np.argmax will\n",
    "# go from 0 to 4, while our ratings go 1 to 5.\n",
    "metrics.mean_absolute_error(\n",
    "    np.argmax(b_y, 1)+1,\n",
    "    np.argmax(model.predict([b_movieid, b_userid]), 1)+1)"
   ]
  },
  {
   "cell_type": "code",
   "execution_count": 47,
   "metadata": {},
   "outputs": [
    {
     "name": "stdout",
     "output_type": "stream",
     "text": [
      "23443/23443 [==============================] - 30s 1ms/step\n"
     ]
    },
    {
     "data": {
      "text/plain": [
       "0.6575099046065085"
      ]
     },
     "execution_count": 47,
     "metadata": {},
     "output_type": "execute_result"
    }
   ],
   "source": [
    "# For comparison's sake, here's the score on the training set.\n",
    "metrics.mean_absolute_error(\n",
    "    np.argmax(a_y, 1)+1,\n",
    "    np.argmax(model.predict([a_movieid, a_userid]), 1)+1)"
   ]
  },
  {
   "cell_type": "code",
   "execution_count": null,
   "metadata": {},
   "outputs": [],
   "source": []
  },
  {
   "cell_type": "markdown",
   "metadata": {},
   "source": []
  },
  {
   "cell_type": "markdown",
   "metadata": {},
   "source": []
  }
 ],
 "metadata": {
  "kernelspec": {
   "display_name": "ds-tools-mIwSscLi-py3.10",
   "language": "python",
   "name": "python3"
  },
  "language_info": {
   "codemirror_mode": {
    "name": "ipython",
    "version": 3
   },
   "file_extension": ".py",
   "mimetype": "text/x-python",
   "name": "python",
   "nbconvert_exporter": "python",
   "pygments_lexer": "ipython3",
   "version": "3.10.0"
  },
  "orig_nbformat": 4
 },
 "nbformat": 4,
 "nbformat_minor": 2
}
