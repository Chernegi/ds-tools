{
 "cells": [
  {
   "cell_type": "markdown",
   "metadata": {},
   "source": [
    "### A chatbot powered with a RAG pipeline to read,summarize and quote the most relevant papers related to the user query. \n",
    "\n",
    "\n",
    "**LI post:** RAG for arXiv reading: https://www.linkedin.com/posts/llamaindex_use-rag-to-do-arxiv-research-rag-maestro-activity-7154995515691028480-u6nz?utm_source=share&utm_medium=member_desktop\n",
    "\n",
    "**Repo:** https://github.com/AymenKallala/RAG_Maestro"
   ]
  },
  {
   "cell_type": "markdown",
   "metadata": {},
   "source": []
  }
 ],
 "metadata": {
  "language_info": {
   "name": "python"
  },
  "orig_nbformat": 4
 },
 "nbformat": 4,
 "nbformat_minor": 2
}
