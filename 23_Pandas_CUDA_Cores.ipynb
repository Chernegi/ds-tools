{
 "cells": [
  {
   "cell_type": "markdown",
   "metadata": {},
   "source": [
    "# GPU for pandas:\n",
    "\n",
    "https://www.linkedin.com/posts/panela_want-to-speed-up-your-pandas-code-by-10-1000x-activity-7128104011563503616-pp1Z?utm_source=share&utm_medium=member_desktop\n",
    "\n",
    "\n",
    "### code example:\n",
    "https://colab.research.google.com/drive/12tCzP94zFG2BRduACucn5Q_OcX1TUKY3?ncid=ref-inpa-798398-vt27#scrollTo=8JW2CQL6qEv3"
   ]
  },
  {
   "cell_type": "markdown",
   "metadata": {},
   "source": []
  }
 ],
 "metadata": {
  "kernelspec": {
   "display_name": "ds-tools-mIwSscLi-py3.10",
   "language": "python",
   "name": "python3"
  },
  "language_info": {
   "name": "python",
   "version": "3.10.0"
  },
  "orig_nbformat": 4
 },
 "nbformat": 4,
 "nbformat_minor": 2
}
