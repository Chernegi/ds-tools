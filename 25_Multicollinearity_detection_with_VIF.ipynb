{
 "cells": [
  {
   "cell_type": "markdown",
   "metadata": {},
   "source": [
    "# Multicollinearity Detection Using VIF\n",
    "\n",
    "source: https://www.analyticsvidhya.com/blog/2020/03/what-is-multicollinearity/"
   ]
  },
  {
   "cell_type": "markdown",
   "metadata": {},
   "source": [
    "The term “variance inflation factor” (VIF) indicates the degree to which correlations among predictors inflate variance. \n",
    "\n",
    "VIFs assess the precision of coefficient estimates, influencing the width of confidence intervals. Lower VIF values are preferable; \n",
    "- **values between 1 and 5** suggest manageable correlation, \n",
    "- **values exceeding 5** indicate severe multicollinearity. \n",
    "\n",
    "Industry standards often recommend maintaining VIF below 5, although some texts consider VIF greater than 10 as severe, with judgment playing a role in deciding corrective measures.\n",
    "\n",
    "For instance, a VIF of 10 means existing multicollinearity inflates coefficient variance tenfold compared to a model without multicollinearity. "
   ]
  },
  {
   "cell_type": "code",
   "execution_count": 7,
   "metadata": {},
   "outputs": [],
   "source": [
    "# to avoid SSLCertVerificationError while loading dataset\n",
    "import ssl\n",
    "\n",
    "ssl._create_default_https_context = ssl._create_unverified_context\n",
    "ssl._create_default_https_context = ssl._create_unverified_context"
   ]
  },
  {
   "cell_type": "code",
   "execution_count": 30,
   "metadata": {},
   "outputs": [
    {
     "name": "stdout",
     "output_type": "stream",
     "text": [
      "(20640, 8) (20640,)\n",
      ".. _california_housing_dataset:\n",
      "\n",
      "California Housing dataset\n",
      "--------------------------\n",
      "\n",
      "**Data Set Characteristics:**\n",
      "\n",
      ":Number of Instances: 20640\n",
      "\n",
      ":Number of Attributes: 8 numeric, predictive attributes and the target\n",
      "\n",
      ":Attribute Information:\n",
      "    - MedInc        median income in block group\n",
      "    - HouseAge      median house age in block group\n",
      "    - AveRooms      average number of rooms per household\n",
      "    - AveBedrms     average number of bedrooms per household\n",
      "    - Population    block group population\n",
      "    - AveOccup      average number of household members\n",
      "    - Latitude      block group latitude\n",
      "    - Longitude     block group longitude\n",
      "\n",
      ":Missing Attribute Values: None\n",
      "\n",
      "This dataset was obtained from the StatLib repository.\n",
      "https://www.dcc.fc.up.pt/~ltorgo/Regression/cal_housing.html\n",
      "\n",
      "The target variable is the median house value for California districts,\n",
      "expressed in hundreds of thousands of dollars ($100,000).\n",
      "\n",
      "This dataset was derived from the 1990 U.S. census, using one row per census\n",
      "block group. A block group is the smallest geographical unit for which the U.S.\n",
      "Census Bureau publishes sample data (a block group typically has a population\n",
      "of 600 to 3,000 people).\n",
      "\n",
      "A household is a group of people residing within a home. Since the average\n",
      "number of rooms and bedrooms in this dataset are provided per household, these\n",
      "columns may take surprisingly large values for block groups with few households\n",
      "and many empty houses, such as vacation resorts.\n",
      "\n",
      "It can be downloaded/loaded using the\n",
      ":func:`sklearn.datasets.fetch_california_housing` function.\n",
      "\n",
      ".. topic:: References\n",
      "\n",
      "    - Pace, R. Kelley and Ronald Barry, Sparse Spatial Autoregressions,\n",
      "      Statistics and Probability Letters, 33 (1997) 291-297\n",
      "\n"
     ]
    }
   ],
   "source": [
    "import numpy as np\n",
    "\n",
    "from sklearn.datasets import fetch_california_housing\n",
    "from sklearn.preprocessing import minmax_scale\n",
    "\n",
    "housing = fetch_california_housing()\n",
    "print(housing.data.shape, housing.target.shape)\n",
    "cols = [\n",
    "    'MedInc',\n",
    "    'HouseAge',\n",
    "    'AveRooms',\n",
    "    'AveBedrms',\n",
    "    'Population',\n",
    "    'AveOccup',\n",
    "    'Latitude',\n",
    "    'Longitude'\n",
    "]\n",
    "print(housing.DESCR)"
   ]
  },
  {
   "cell_type": "code",
   "execution_count": 31,
   "metadata": {},
   "outputs": [
    {
     "data": {
      "text/plain": [
       "array([[   8.3252    ,   41.        ,    6.98412698, ...,    2.55555556,\n",
       "          37.88      , -122.23      ],\n",
       "       [   8.3014    ,   21.        ,    6.23813708, ...,    2.10984183,\n",
       "          37.86      , -122.22      ],\n",
       "       [   7.2574    ,   52.        ,    8.28813559, ...,    2.80225989,\n",
       "          37.85      , -122.24      ],\n",
       "       ...,\n",
       "       [   1.7       ,   17.        ,    5.20554273, ...,    2.3256351 ,\n",
       "          39.43      , -121.22      ],\n",
       "       [   1.8672    ,   18.        ,    5.32951289, ...,    2.12320917,\n",
       "          39.43      , -121.32      ],\n",
       "       [   2.3886    ,   16.        ,    5.25471698, ...,    2.61698113,\n",
       "          39.37      , -121.24      ]])"
      ]
     },
     "execution_count": 31,
     "metadata": {},
     "output_type": "execute_result"
    }
   ],
   "source": [
    "housing.data"
   ]
  },
  {
   "cell_type": "code",
   "execution_count": 32,
   "metadata": {},
   "outputs": [],
   "source": [
    "X = housing.data\n",
    "y = housing.target"
   ]
  },
  {
   "cell_type": "code",
   "execution_count": 35,
   "metadata": {},
   "outputs": [
    {
     "name": "stdout",
     "output_type": "stream",
     "text": [
      "1.0\n",
      "0.541950714394285\n"
     ]
    }
   ],
   "source": [
    "# Scaling\n",
    "X = minmax_scale(X, axis=0)\n",
    "\n",
    "print(np.max(X[:, 1]))\n",
    "print(np.average(X[:, 1]))"
   ]
  },
  {
   "cell_type": "code",
   "execution_count": 36,
   "metadata": {},
   "outputs": [],
   "source": [
    "import pandas as pd\n",
    "\n",
    "# Import library for VIF\n",
    "from statsmodels.stats.outliers_influence import variance_inflation_factor\n",
    "\n",
    "\n",
    "def calc_vif(X, cols):\n",
    "\n",
    "    # Calculating VIF\n",
    "    vif = pd.DataFrame()\n",
    "    vif[\"variables\"] = cols\n",
    "    vif[\"VIF\"] = [variance_inflation_factor(\n",
    "        X, i) for i in range(X.shape[1])]\n",
    "\n",
    "    return (vif)"
   ]
  },
  {
   "cell_type": "code",
   "execution_count": 37,
   "metadata": {},
   "outputs": [
    {
     "name": "stdout",
     "output_type": "stream",
     "text": [
      "    variables        VIF\n",
      "0      MedInc   7.879822\n",
      "1    HouseAge   5.556537\n",
      "2    AveRooms  33.975595\n",
      "3   AveBedrms  23.430221\n",
      "4  Population   2.751701\n",
      "5    AveOccup   1.059813\n",
      "6    Latitude   4.117505\n",
      "7   Longitude   7.484599\n"
     ]
    }
   ],
   "source": [
    "print(calc_vif(X, cols))"
   ]
  },
  {
   "cell_type": "markdown",
   "metadata": {},
   "source": [
    "VIFs assess the precision of coefficient estimates, influencing the width of confidence intervals. Lower VIF values are preferable; \n",
    "- **values between 1 and 5** suggest manageable correlation, \n",
    "- **values exceeding 5** indicate severe multicollinearity. \n",
    "\n",
    "Industry standards often recommend maintaining VIF below 5, although some texts consider VIF greater than 10 as severe, with judgment playing a role in deciding corrective measures.\n",
    "\n",
    "For instance, a VIF of 10 means existing multicollinearity inflates coefficient variance tenfold compared to a model without multicollinearity. "
   ]
  },
  {
   "cell_type": "markdown",
   "metadata": {},
   "source": []
  }
 ],
 "metadata": {
  "kernelspec": {
   "display_name": "ds-tools-mIwSscLi-py3.10",
   "language": "python",
   "name": "python3"
  },
  "language_info": {
   "codemirror_mode": {
    "name": "ipython",
    "version": 3
   },
   "file_extension": ".py",
   "mimetype": "text/x-python",
   "name": "python",
   "nbconvert_exporter": "python",
   "pygments_lexer": "ipython3",
   "version": "3.10.0"
  },
  "orig_nbformat": 4
 },
 "nbformat": 4,
 "nbformat_minor": 2
}
