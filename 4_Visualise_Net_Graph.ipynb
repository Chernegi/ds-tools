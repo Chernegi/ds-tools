{
 "cells": [
  {
   "cell_type": "markdown",
   "metadata": {},
   "source": [
    "## Visualisation of network and graphs\n",
    "\n",
    "Useful links:\n",
    "\n",
    "https://towardsdatascience.com/visualizing-networks-in-python-d70f4cbeb259\n",
    "\n",
    "https://www.geeksforgeeks.org/visualize-graphs-in-python/"
   ]
  },
  {
   "cell_type": "code",
   "execution_count": null,
   "metadata": {
    "vscode": {
     "languageId": "plaintext"
    }
   },
   "outputs": [],
   "source": []
  },
  {
   "cell_type": "markdown",
   "metadata": {},
   "source": []
  }
 ],
 "metadata": {
  "language_info": {
   "name": "python"
  },
  "orig_nbformat": 4
 },
 "nbformat": 4,
 "nbformat_minor": 2
}
